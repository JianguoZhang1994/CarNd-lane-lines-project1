{
 "cells": [
  {
   "cell_type": "markdown",
   "metadata": {
    "deletable": true,
    "editable": true
   },
   "source": [
    "<center><font color=\"#4590a3\" size = 5>**Finding Lane Lines on the Road** </center>\n",
    "\n",
    "<center><font color=\"#4590a3\" size = 4.5>**Writeup Report**</center>\n",
    "<center><font color=\"#4590a3\" size = 4>**Jianguo Zhang**</center>\n",
    "<font color=\"black\" size=3>\n",
    "\n",
    "---\n",
    "**Finding Lane Lines on the Road**\n",
    "\n",
    "The goals / steps of this project are the following:\n",
    "* Make a pipeline that finds lane lines on the road\n",
    "* Reflect on my work in a written report\n",
    "\n",
    "\n",
    "[//]: # (Image References)\n",
    "\n",
    "[image1]: ./whiteCarLaneSwitch_test.jpg \n",
    "\n",
    "---\n",
    "\n",
    "### Reflection\n",
    "\n",
    "### 1. Describe your pipeline. As part of the description, explain how you modified the draw_lines() function.\n",
    "\n",
    "My pipeline consisted of 5 steps. First, I converted the images to grayscale. Second, I use a Gaussian Noise kernel to suppress noise and spurious gradients in the grayscale image. Third, I use canny transform to detect edges in the gaussian blur image. Then I use hough transform to get lines in region of interest, where regions of interest is a quadrilateral area defined by four vertices in the canny output image. Finally I use draw_lines function to draw lines.  \n",
    "\n",
    "In order to draw a single line on the left and right lanes, I modify the draw_lines() function by computing the slope of each line, if the line's slope is smaller than 0, it belonged to left lines, otherwise belonged to right lines. I deal with left lines and right lines seperately using the same method. Take the left lines as an example, First I find the mid-largest slope(choosing by fine tuning) in the sorted slopes sequence. Then I find the bottom point(which closes to axis x) by finding the minimum value of left_y1 and its corresponding left_x1 in all left lines. After that I find the top point(which awayest from axis x) using mathematics, as I have image.shape[1], I need to find its corresponding left_x, in mathematics, we can get left_x by (image.shape[1]-left_y1)/left_slope+left_x1.\n",
    "Now I have two points, bottom point: (left_x1, left_y1), top point: (left_x, image.shape[1]), I draw a line between this too points. \n",
    "\n",
    "The values in vertices and parameters in other functions set through finefine tuning parameters.\n",
    "\n",
    "Here is a single whiteCarLaneSwitch image result: \n",
    "\n",
    "![name][image1]\n",
    "\n",
    "You can run my Project1.ipynb or just check Project1_online_result.html. \n",
    "\n",
    "### 2. Identify potential shortcomings with your current pipeline\n",
    "\n",
    "When I test the challenge.mp4, I find that the red lines not in the correct position, I think one potential shortcoming is that for my quadrilateral area vertices, where the four points (0,imshape[0]),(460, 317), (490, 317), (imshape[1],imshape[0]), especailly for (460, 317), (490, 317), I set the values by hand fine tuning, which is difficult to use in general versions.\n",
    "\n",
    "Another shortcoming is that when choose the left slope and right slope, I choose the mid-largest value, which may cause errors in some situations.\n",
    "\n",
    "\n",
    "### 3. Suggest possible improvements to your pipeline\n",
    "\n",
    "A possible improvement would be to separate the area at the beginning, like for the quadrilateral area vertices, I can set a left area containing left line part and a right area containing right line part for each picture, so I don't need to set exact values for the two former vertices (460, 317), (490, 317), hence it can be used in more sitiations.\n",
    "\n",
    "Another potential improvement could be to when there are some interferential long lines has similiar slope in compicated picture or video, I can choose the longest one. "
   ]
  }
 ],
 "metadata": {
  "kernelspec": {
   "display_name": "Python 3",
   "language": "python",
   "name": "python3"
  },
  "language_info": {
   "codemirror_mode": {
    "name": "ipython",
    "version": 3
   },
   "file_extension": ".py",
   "mimetype": "text/x-python",
   "name": "python",
   "nbconvert_exporter": "python",
   "pygments_lexer": "ipython3",
   "version": "3.5.2"
  },
  "widgets": {
   "state": {},
   "version": "1.1.2"
  }
 },
 "nbformat": 4,
 "nbformat_minor": 2
}
